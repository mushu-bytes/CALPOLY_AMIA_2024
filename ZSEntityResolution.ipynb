{
 "cells": [
  {
   "cell_type": "code",
   "execution_count": 1,
   "id": "12910ed8-de7c-4452-a4ff-c2a1f1239148",
   "metadata": {},
   "outputs": [],
   "source": [
    "import pandas as pd\n",
    "import numpy as np\n",
    "import transformers\n",
    "from sklearn.metrics import classification_report"
   ]
  },
  {
   "cell_type": "code",
   "execution_count": 2,
   "id": "00783e8f-e21a-42c3-b420-effa034b1972",
   "metadata": {},
   "outputs": [],
   "source": [
    "import openai\n",
    "# TODO: not hard code\n",
    "openai.api_key = open(\"/mnt/clbp/.openai_api_key.txt\").read().strip()"
   ]
  },
  {
   "cell_type": "code",
   "execution_count": 3,
   "id": "a7ca3b2f-87d3-425f-89de-97ee04e3ff9e",
   "metadata": {},
   "outputs": [],
   "source": [
    "import spacy\n",
    "\n",
    "nlp = spacy.load(\"en_core_web_sm\")"
   ]
  },
  {
   "cell_type": "markdown",
   "id": "ef14304d-bd46-4a3b-97a5-598ffd4461d0",
   "metadata": {},
   "source": [
    "# Dataset Preprocessing"
   ]
  },
  {
   "cell_type": "code",
   "execution_count": 6,
   "id": "403afad4-ee71-41af-9930-8b336378426a",
   "metadata": {},
   "outputs": [],
   "source": [
    "df = pd.read_csv(\"../datasets/4labelers.csv\").sample(frac=1)\n",
    "df[\"four\"] = (full_df[\"Num M (4 labelers)\"] == 4).astype(int)"
   ]
  },
  {
   "cell_type": "code",
   "execution_count": 7,
   "id": "f2f3c9c7-3347-4957-9206-ea482a59edc4",
   "metadata": {},
   "outputs": [],
   "source": [
    "def get_noun_chunk(row):\n",
    "    sent, entity = row[1], row[0]\n",
    "    doc = nlp(sent)\n",
    "    for chunk in doc.noun_chunks:\n",
    "        if chunk.text.lower().find(entity.lower()) != -1:\n",
    "            return chunk.text\n",
    "    return entity\n",
    "\n",
    "def get_root_chunk(row):\n",
    "    sent, entity = row[1], row[0]\n",
    "    doc = nlp(sent)\n",
    "    for chunk in doc.noun_chunks:\n",
    "        if chunk.text.lower().find(entity.lower()) != -1:\n",
    "            return chunk.root.text\n",
    "    return entity"
   ]
  },
  {
   "cell_type": "code",
   "execution_count": 8,
   "id": "1d55a8aa-cf5a-4305-bb1c-6d0dc6fc701d",
   "metadata": {},
   "outputs": [
    {
     "name": "stderr",
     "output_type": "stream",
     "text": [
      "/tmp/ipykernel_254425/535872699.py:2: FutureWarning: Series.__getitem__ treating keys as positions is deprecated. In a future version, integer keys will always be treated as labels (consistent with DataFrame behavior). To access a value by position, use `ser.iloc[pos]`\n",
      "  sent, entity = row[1], row[0]\n",
      "/tmp/ipykernel_254425/535872699.py:2: FutureWarning: Series.__getitem__ treating keys as positions is deprecated. In a future version, integer keys will always be treated as labels (consistent with DataFrame behavior). To access a value by position, use `ser.iloc[pos]`\n",
      "  sent, entity = row[1], row[0]\n",
      "/tmp/ipykernel_254425/535872699.py:10: FutureWarning: Series.__getitem__ treating keys as positions is deprecated. In a future version, integer keys will always be treated as labels (consistent with DataFrame behavior). To access a value by position, use `ser.iloc[pos]`\n",
      "  sent, entity = row[1], row[0]\n",
      "/tmp/ipykernel_254425/535872699.py:10: FutureWarning: Series.__getitem__ treating keys as positions is deprecated. In a future version, integer keys will always be treated as labels (consistent with DataFrame behavior). To access a value by position, use `ser.iloc[pos]`\n",
      "  sent, entity = row[1], row[0]\n"
     ]
    }
   ],
   "source": [
    "df[\"Chunk A\"] = df[[\"Entity A\", \"Sentence A\"]].transpose().apply(get_noun_chunk, axis=0)\n",
    "df[\"Chunk B\"] = df[[\"Entity B\", \"Sentence B\"]].transpose().apply(get_noun_chunk, axis=0)\n",
    "df[\"Root A\"] = df[[\"Entity A\", \"Sentence A\"]].transpose().apply(get_root_chunk, axis=0)\n",
    "df[\"Root B\"] = df[[\"Entity B\", \"Sentence B\"]].transpose().apply(get_root_chunk, axis=0)"
   ]
  },
  {
   "cell_type": "markdown",
   "id": "571f5b65-8ad0-43ac-a020-5fcfeda42ac2",
   "metadata": {},
   "source": [
    "# GPT Prompts"
   ]
  },
  {
   "cell_type": "code",
   "execution_count": 17,
   "id": "319885d6-d27c-4255-8b5e-be9163ed8a76",
   "metadata": {
    "tags": []
   },
   "outputs": [],
   "source": [
    "def GPT_sentence(term1, sent1, term2, sent2):\n",
    "    PROMPT = \"You are a healthcare professional who specializes in chronic pain. This chat thread will be used to predict entity resolution between two entities and their given context. Each entity will be given as a word and the sentence that it came from. Be sure to consider the context of the entity when labeling each entity pair. These are your labeling instructions: identify the label that best represents the given pair of entities: Matching - the two entities are identical or very closely similar in contextual meaning, and could be combined without losing information such that the two entities could be swapped in their respective sentences and would still hold the same definition in the context of the sentence. Not Matching - the two entities are not the same in context, even though they may be similar or related. A “not matching” indicates entities which do not fit the criteria to be labeled as “matching”. Output ONLY a 'yes' for matching, and ONLY a 'no' if they do not match.\"\n",
    "    max_tokens = 4097\n",
    "    relevant_paragraphs = []\n",
    "    non_relevant_paragraphs = []\n",
    "    messages=[\n",
    "          {\"role\": \"system\", \"content\": PROMPT},\n",
    "          {\"role\": \"user\", \"content\": \"The first sentence and entity: A. %s, '%s'.\\n The second sentence and entity: 2. %s, '%s'\"%(sent1, term1, sent2, term2) }\n",
    "    ]\n",
    "    finished = False\n",
    "    c = 1\n",
    "    while not finished:\n",
    "        if c > 3:\n",
    "            break\n",
    "        if c > 1:\n",
    "            print(f\"Trying openai for {c} time\")\n",
    "        try:\n",
    "            response = openai.ChatCompletion.create(\n",
    "              model=\"gpt-3.5-turbo\",\n",
    "              messages=messages,\n",
    "              temperature=0,\n",
    "              top_p=1,\n",
    "              frequency_penalty=0,\n",
    "              presence_penalty=0\n",
    "            )\n",
    "            finished = True\n",
    "        except Exception as e:\n",
    "            print(e)\n",
    "        c += 1\n",
    "    \n",
    "    if finished:\n",
    "        response = response['choices'][0]['message']['content'].strip()\n",
    "        try:\n",
    "            if response.find(\"yes\") != -1:\n",
    "                response = 1\n",
    "            else:\n",
    "                response = 0\n",
    "        except Exception as e:\n",
    "            print(e)\n",
    "            response = 0\n",
    "        return response\n",
    "    else:\n",
    "        return None\n"
   ]
  },
  {
   "cell_type": "code",
   "execution_count": 20,
   "id": "0862063f-cf53-4e90-82f0-c68d13a8d083",
   "metadata": {
    "tags": []
   },
   "outputs": [],
   "source": [
    "def GPT_compare_terms(term1, term2):\n",
    "    PROMPT = \"You are a healthcare professional who specializes in chronic pain. Here are your labeling instructions: identify the category that best represents the given pair of entities. Matching - the two entities are identical or very closely similar in contextual meaning, and could be used interchangeably without losing information. Not Matching - the two entities are not the same in context and cannot be used interchangeably, even though they may be similar or related. Ignore grammar and puntuation. Output ONLY a 'yes' for matching, and ONLY a 'no' if they do not match.\"\n",
    "            \n",
    "    max_tokens = 4097\n",
    "    relevant_paragraphs = []\n",
    "    non_relevant_paragraphs = []\n",
    "    messages=[\n",
    "          {\"role\": \"system\", \"content\": PROMPT},\n",
    "          {\"role\": \"user\", \"content\": \"1. %s\\n2. %s\"%(term1,term2) }\n",
    "    ]\n",
    "    finished = False\n",
    "    c = 1\n",
    "    while not finished:\n",
    "        if c > 3:\n",
    "            break\n",
    "        if c > 1:\n",
    "            print(f\"Trying openai for {c} time\")\n",
    "        try:\n",
    "            response = openai.ChatCompletion.create(\n",
    "              model=\"gpt-3.5-turbo\",\n",
    "              messages=messages,\n",
    "              temperature=0,\n",
    "              top_p=1,\n",
    "              frequency_penalty=0,\n",
    "              presence_penalty=0\n",
    "            )\n",
    "            finished = True\n",
    "        except Exception as e:\n",
    "            print(e)\n",
    "        c += 1\n",
    "    \n",
    "    if finished:\n",
    "        response = response['choices'][0]['message']['content'].strip()\n",
    "        try:\n",
    "            if response.find(\"yes\") != -1:\n",
    "                response = 1\n",
    "            else:\n",
    "                response = 0\n",
    "        except Exception as e:\n",
    "            print(e)\n",
    "            response = 0\n",
    "        return response\n",
    "    else:\n",
    "        return None\n"
   ]
  },
  {
   "cell_type": "markdown",
   "id": "66f73302-39e7-4ef5-9c49-78f1d077a2ee",
   "metadata": {},
   "source": [
    "# Entity Resolution Outputs"
   ]
  },
  {
   "cell_type": "code",
   "execution_count": 12,
   "id": "a7de24e2-d64b-43cf-a4c6-30509d3ae6bd",
   "metadata": {},
   "outputs": [],
   "source": [
    "def compare_roots(row):\n",
    "    rootA, rootB = row[\"Root A\"], row[\"Root B\"]\n",
    "    return GPT_compare_terms(rootA, rootB)\n",
    "    \n",
    "if \"Roots\" in df.columns:\n",
    "    df = df.drop(columns=[\"Roots\"])\n",
    "df[\"Roots\"] = df.apply(compare_roots, axis=1)"
   ]
  },
  {
   "cell_type": "code",
   "execution_count": 13,
   "id": "6c8bcee3-5d30-402e-aac7-7b22ef23158d",
   "metadata": {},
   "outputs": [],
   "source": [
    "def compare_chunks(row):\n",
    "    chunkA, chunkB = row[\"Chunk A\"], row[\"Chunk B\"]\n",
    "    return GPT_compare_terms(chunkA, chunkB)\n",
    "    \n",
    "if \"Chunks\" in df.columns:\n",
    "    df = df.drop(columns=[\"Chunks\"])\n",
    "df[\"Chunks\"] = df.apply(compare_chunks, axis=1)"
   ]
  },
  {
   "cell_type": "code",
   "execution_count": 21,
   "id": "f4a6e2cc-d129-4505-b556-40216f838351",
   "metadata": {},
   "outputs": [],
   "source": [
    "def compare_entities(row):\n",
    "    entityA, entityB = row[\"Entity A\"], row[\"Entity B\"]\n",
    "    return GPT_compare_terms(entityA, entityB)\n",
    "    \n",
    "if \"Entities\" in df.columns:\n",
    "    df = df.drop(columns=[\"Entities\"])\n",
    "df[\"Entities\"] = df.apply(compare_entities, axis=1)"
   ]
  },
  {
   "cell_type": "code",
   "execution_count": 22,
   "id": "e5035969-d15e-4e1e-8007-a1ad295bd3c1",
   "metadata": {},
   "outputs": [],
   "source": [
    "def compare_context(row):\n",
    "    entityA, entityB = row[\"Entity A\"], row[\"Entity B\"]\n",
    "    sentA, sentB = row[\"Sentence A\"], row[\"Sentence B\"]\n",
    "    return GPT_sentence(entityA, sentA, entityB, sentB)\n",
    "    \n",
    "if \"Context\" in df.columns:\n",
    "    df = df.drop(columns=[\"Context\"])\n",
    "df[\"Context\"] = df.apply(compare_context, axis=1)"
   ]
  },
  {
   "cell_type": "markdown",
   "id": "8d54e2de-3c1e-4070-bc2c-5f5e035d07bc",
   "metadata": {},
   "source": [
    "# Determining whether context is needed"
   ]
  },
  {
   "cell_type": "code",
   "execution_count": 131,
   "id": "fdafa47d-baf0-4f35-9b56-8a51d435ff8a",
   "metadata": {},
   "outputs": [
    {
     "name": "stdout",
     "output_type": "stream",
     "text": [
      "The server is overloaded or not ready yet.\n",
      "Trying openai for 2 time\n"
     ]
    }
   ],
   "source": [
    "def context_type(row):\n",
    "    entityA, chunkA = row[\"Entity A\"], row[\"Chunk A\"]\n",
    "    entityB, chunkB = row[\"Entity B\"], row[\"Chunk B\"]\n",
    "    A = GPT_entities_helper(entityA, chunkA) == 1\n",
    "    B = GPT_entities_helper(entityB, chunkB) == 1\n",
    "    if A and B:\n",
    "        return 0\n",
    "    elif not A and B:\n",
    "        return 1\n",
    "    elif A and not B:\n",
    "        return 1\n",
    "    else:\n",
    "        return 2\n",
    "if \"ContextType\" in df.columns:\n",
    "    df = df.drop(columns=[\"ContextType\"])\n",
    "df[\"ContextType\"] = df.apply(context_type, axis=1)"
   ]
  },
  {
   "cell_type": "code",
   "execution_count": 132,
   "id": "d0972279-47ae-41fa-a30a-c5b174f19c78",
   "metadata": {},
   "outputs": [],
   "source": [
    "def ModContext(row):\n",
    "    entityA, rootA = row[\"Entity A\"], row[\"Root A\"]\n",
    "    entityB, rootB = row[\"Entity B\"], row[\"Root B\"]\n",
    "    context = row[\"ContextType\"]\n",
    "    if context == 0:\n",
    "        return row[\"Entities\"]\n",
    "    elif context == 1:\n",
    "        return row[\"Roots\"]\n",
    "    else:\n",
    "        return row[\"Roots\"]\n",
    "if \"ModifiedContext\" in df.columns:\n",
    "    df = df.drop(columns=[\"ModifiedContext\"])\n",
    "df[\"ModifiedContext\"] = df.apply(ModContext, axis=1)"
   ]
  },
  {
   "cell_type": "code",
   "execution_count": 152,
   "id": "35ab9bc9-7556-4bfe-a840-cec63af09856",
   "metadata": {},
   "outputs": [],
   "source": [
    "def check_positives(row):\n",
    "    if row[\"Entities\"]:\n",
    "        return row[\"ModifiedContext\"]\n",
    "    return 0\n",
    "if \"Combined\" in df.columns:\n",
    "    df = df.drop(columns=[\"Combined\"])\n",
    "df[\"Combined\"] = df.apply(check_positives, axis=1)"
   ]
  },
  {
   "cell_type": "markdown",
   "id": "dbf0af9a-9d58-423f-8c67-c3dd0ec29d3e",
   "metadata": {},
   "source": [
    "# Run a 100 times for safe measure"
   ]
  },
  {
   "cell_type": "code",
   "execution_count": 237,
   "id": "ec5f7582-2b54-49df-88ce-9aa7b474612b",
   "metadata": {},
   "outputs": [],
   "source": [
    "entities = []\n",
    "context = []\n",
    "chunks = []\n",
    "roots = []\n",
    "modifiedContext = []\n",
    "combined = []\n",
    "\n",
    "entities_res = []\n",
    "context_res = []\n",
    "chunks_res = []\n",
    "roots_res = []\n",
    "modifiedContext_res = []\n",
    "combined_res = []"
   ]
  },
  {
   "cell_type": "code",
   "execution_count": null,
   "id": "be592f0f-1801-4d80-bdeb-e5baffb4f374",
   "metadata": {},
   "outputs": [],
   "source": [
    "from sklearn.metrics import f1_score\n",
    "\n",
    "for i in range(50):\n",
    "    methods = [\"Entities\", \"Context\", \"Chunks\", \"Roots\", \"ContextType\", \"ModifiedContext\", \"Combined\"]\n",
    "    for M in methods:\n",
    "        if M in df.columns:\n",
    "            df = df.drop(columns=[M])\n",
    "            \n",
    "    df[\"Roots\"] = df.apply(compare_roots, axis=1)\n",
    "    df[\"Entities\"] = df.apply(compare_entities, axis=1)\n",
    "    df[\"Chunks\"] = df.apply(compare_chunks, axis=1)\n",
    "    df[\"Context\"] = df.apply(compare_context, axis=1)\n",
    "    df[\"ContextType\"] = df.apply(context_type, axis=1)\n",
    "    df[\"ModifiedContext\"] = df.apply(ModContext, axis=1)\n",
    "    df[\"Combined\"] = df.apply(check_positives, axis=1)\n",
    "    \n",
    "    entities.append(f1_score(df[\"Entities\"], df[\"four\"]))\n",
    "    context.append(f1_score(df[\"Context\"], df[\"four\"]))\n",
    "    chunks.append(f1_score(df[\"Chunks\"], df[\"four\"]))\n",
    "    roots.append(f1_score(df[\"Roots\"], df[\"four\"]))\n",
    "    modifiedContext.append(f1_score(df[\"ModifiedContext\"], df[\"four\"]))\n",
    "    combined.append(f1_score(df[\"Combined\"], df[\"four\"]))\n",
    "\n",
    "    entities_res.append(df[\"Entities\"])\n",
    "    context_res.append(df[\"Context\"])\n",
    "    chunks_res.append(df[\"Chunks\"])\n",
    "    roots_res.append(df[\"Roots\"])\n",
    "    modifiedContext_res.append(df[\"ModifiedContext\"])\n",
    "    combined_res.append(df[\"Combined\"])"
   ]
  },
  {
   "cell_type": "code",
   "execution_count": null,
   "id": "fca3e2e0-bbd6-475d-9f7c-7f64c94d8564",
   "metadata": {},
   "outputs": [],
   "source": [
    "entities"
   ]
  },
  {
   "cell_type": "code",
   "execution_count": null,
   "id": "59d44441-79a1-45ed-b675-ed60afab2d8e",
   "metadata": {},
   "outputs": [],
   "source": [
    "print(\"hi\")"
   ]
  },
  {
   "cell_type": "markdown",
   "id": "3b0e1da3-ccae-46b3-ad13-19b43186370f",
   "metadata": {},
   "source": [
    "# Results"
   ]
  },
  {
   "cell_type": "code",
   "execution_count": 134,
   "id": "2a7c5949-5b3a-42b6-9fc0-204df0b30527",
   "metadata": {},
   "outputs": [],
   "source": [
    "from sklearn.metrics import classification_report"
   ]
  },
  {
   "cell_type": "code",
   "execution_count": 153,
   "id": "6799d864-8d3d-4078-b26b-13e1a4ebda6c",
   "metadata": {},
   "outputs": [],
   "source": [
    "methods = [\"Entities\", \"Context\", \"Chunks\", \"Roots\", \"ModifiedContext\", \"Combined\"]\n",
    "res = []\n",
    "\n",
    "for M in methods:\n",
    "    metrics = classification_report(df[\"four\"], df[M], output_dict=True, target_names=[\"Not Matching\", \"Matching\"])[\"Matching\"]\n",
    "    res.append(metrics)"
   ]
  },
  {
   "cell_type": "code",
   "execution_count": 230,
   "id": "3fbbf27d-cdb8-4869-8fb7-c9caa8ffb9d2",
   "metadata": {},
   "outputs": [
    {
     "name": "stdout",
     "output_type": "stream",
     "text": [
      "\\begin{tabular}{lrrrrrr}\n",
      "\\toprule\n",
      " & Entities & Context & Chunks & Roots & ModifiedContext & Combined \\\\\n",
      "\\midrule\n",
      "precision & 0.480000 & 0.206250 & 0.395349 & 0.333333 & 0.482143 & 0.586957 \\\\\n",
      "recall & 0.947368 & 0.868421 & 0.447368 & 0.684211 & 0.710526 & 0.710526 \\\\\n",
      "f1-score & 0.637168 & 0.333333 & 0.419753 & 0.448276 & 0.574468 & 0.642857 \\\\\n",
      "\\bottomrule\n",
      "\\end{tabular}\n",
      "\n"
     ]
    }
   ],
   "source": [
    "results = pd.DataFrame(res, index=predictions).drop(columns=[\"support\"])\n",
    "results = results.transpose()\n",
    "print(results.to_latex())"
   ]
  },
  {
   "cell_type": "code",
   "execution_count": 155,
   "id": "df3ca07c-30e5-4fef-8502-6d11af5386ad",
   "metadata": {},
   "outputs": [
    {
     "data": {
      "text/plain": [
       "<sklearn.metrics._plot.confusion_matrix.ConfusionMatrixDisplay at 0x7f9eda9b43d0>"
      ]
     },
     "execution_count": 155,
     "metadata": {},
     "output_type": "execute_result"
    },
    {
     "data": {
      "image/png": "[encoded data removed]",
      "text/plain": [
       "<Figure size 640x480 with 2 Axes>"
      ]
     },
     "metadata": {},
     "output_type": "display_data"
    }
   ],
   "source": [
    "import matplotlib as plt\n",
    "from sklearn.metrics import confusion_matrix, ConfusionMatrixDisplay \n",
    "\n",
    "entities_cm = confusion_matrix(df[\"four\"], df[\"Entities\"])\n",
    "ConfusionMatrixDisplay(entities_cm).plot()"
   ]
  },
  {
   "cell_type": "code",
   "execution_count": 235,
   "id": "f71d1777-beb5-4c0a-96ba-ebd74d67034c",
   "metadata": {},
   "outputs": [
    {
     "data": {
      "text/plain": [
       "<sklearn.metrics._plot.confusion_matrix.ConfusionMatrixDisplay at 0x7f9eda3b4100>"
      ]
     },
     "execution_count": 235,
     "metadata": {},
     "output_type": "execute_result"
    },
    {
     "data": {
      "image/png": "[encoded data removed]",
      "text/plain": [
       "<Figure size 640x480 with 2 Axes>"
      ]
     },
     "metadata": {},
     "output_type": "display_data"
    }
   ],
   "source": [
    "context_cm = confusion_matrix(df[\"four\"], df[\"Combined\"])\n",
    "ConfusionMatrixDisplay(context_cm).plot()"
   ]
  },
  {
   "cell_type": "markdown",
   "id": "048c0b6a-bb7e-4085-b7b3-480141c95997",
   "metadata": {},
   "source": [
    "# Analysis of Context vs No Context"
   ]
  },
  {
   "cell_type": "code",
   "execution_count": 210,
   "id": "82732e60-94f9-4ab7-a77f-e395080fe1b8",
   "metadata": {},
   "outputs": [],
   "source": [
    "root_diff = df[(df[\"four\"] == df[\"Roots\"]) & (df[\"four\"] != df[\"Entities\"])][[\"ContextType\"]].value_counts().to_frame()"
   ]
  },
  {
   "cell_type": "code",
   "execution_count": 211,
   "id": "357ee040-0a82-4d37-b79a-65db36a83425",
   "metadata": {},
   "outputs": [],
   "source": [
    "entities_diff = df[(df[\"four\"] != df[\"Roots\"]) & (df[\"four\"] == df[\"Entities\"])][[\"ContextType\"]].value_counts().to_frame()"
   ]
  },
  {
   "cell_type": "code",
   "execution_count": 219,
   "id": "c1aa79e3-7669-4f60-88f0-a602013ed7ea",
   "metadata": {},
   "outputs": [
    {
     "data": {
      "text/html": [
       "<div>\n",
       "<style scoped>\n",
       "    .dataframe tbody tr th:only-of-type {\n",
       "        vertical-align: middle;\n",
       "    }\n",
       "\n",
       "    .dataframe tbody tr th {\n",
       "        vertical-align: top;\n",
       "    }\n",
       "\n",
       "    .dataframe thead th {\n",
       "        text-align: right;\n",
       "    }\n",
       "</style>\n",
       "<table border=\"1\" class=\"dataframe\">\n",
       "  <thead>\n",
       "    <tr style=\"text-align: right;\">\n",
       "      <th></th>\n",
       "      <th>Entities</th>\n",
       "      <th>Roots</th>\n",
       "    </tr>\n",
       "  </thead>\n",
       "  <tbody>\n",
       "    <tr>\n",
       "      <th>No Context Needed</th>\n",
       "      <td>26</td>\n",
       "      <td>2</td>\n",
       "    </tr>\n",
       "    <tr>\n",
       "      <th>Some Context Needed</th>\n",
       "      <td>15</td>\n",
       "      <td>12</td>\n",
       "    </tr>\n",
       "    <tr>\n",
       "      <th>Context Needed</th>\n",
       "      <td>4</td>\n",
       "      <td>8</td>\n",
       "    </tr>\n",
       "  </tbody>\n",
       "</table>\n",
       "</div>"
      ],
      "text/plain": [
       "                     Entities  Roots\n",
       "No Context Needed          26      2\n",
       "Some Context Needed        15     12\n",
       "Context Needed              4      8"
      ]
     },
     "execution_count": 219,
     "metadata": {},
     "output_type": "execute_result"
    }
   ],
   "source": [
    "context_vs_entities = pd.concat([entities_diff, root_diff], axis=1)\n",
    "context_vs_entities.columns = [\"Entities\", \"Roots\"]\n",
    "context_vs_entities.index = [\"No Context Needed\", \"Some Context Needed\", \"Context Needed\"]\n",
    "context_vs_entities"
   ]
  },
  {
   "cell_type": "code",
   "execution_count": 220,
   "id": "beb1e4b3-5c90-40bf-8b9b-2b8379855165",
   "metadata": {},
   "outputs": [],
   "source": [
    "methods = [\"Entities\", \"Context\", \"Chunks\", \"Roots\", \"ModifiedContext\", \"Combined\"]\n",
    "val_counts = []\n",
    "for M in methods:\n",
    "    val_counts.append(df[(df[\"four\"] == df[M])][[\"ContextType\"]].value_counts())"
   ]
  },
  {
   "cell_type": "code",
   "execution_count": 225,
   "id": "8a73eb12-8dd6-4866-b903-ddbed31c04f9",
   "metadata": {},
   "outputs": [
    {
     "data": {
      "text/html": [
       "<div>\n",
       "<style scoped>\n",
       "    .dataframe tbody tr th:only-of-type {\n",
       "        vertical-align: middle;\n",
       "    }\n",
       "\n",
       "    .dataframe tbody tr th {\n",
       "        vertical-align: top;\n",
       "    }\n",
       "\n",
       "    .dataframe thead th {\n",
       "        text-align: right;\n",
       "    }\n",
       "</style>\n",
       "<table border=\"1\" class=\"dataframe\">\n",
       "  <thead>\n",
       "    <tr style=\"text-align: right;\">\n",
       "      <th></th>\n",
       "      <th>Entities</th>\n",
       "      <th>Context</th>\n",
       "      <th>Chunks</th>\n",
       "      <th>Roots</th>\n",
       "      <th>ModifiedContext</th>\n",
       "      <th>Combined</th>\n",
       "    </tr>\n",
       "  </thead>\n",
       "  <tbody>\n",
       "    <tr>\n",
       "      <th>No Context Needed</th>\n",
       "      <td>213</td>\n",
       "      <td>165</td>\n",
       "      <td>213</td>\n",
       "      <td>189</td>\n",
       "      <td>213</td>\n",
       "      <td>213</td>\n",
       "    </tr>\n",
       "    <tr>\n",
       "      <th>Some Context Needed</th>\n",
       "      <td>183</td>\n",
       "      <td>150</td>\n",
       "      <td>175</td>\n",
       "      <td>180</td>\n",
       "      <td>180</td>\n",
       "      <td>187</td>\n",
       "    </tr>\n",
       "    <tr>\n",
       "      <th>Context Needed</th>\n",
       "      <td>64</td>\n",
       "      <td>54</td>\n",
       "      <td>66</td>\n",
       "      <td>68</td>\n",
       "      <td>68</td>\n",
       "      <td>71</td>\n",
       "    </tr>\n",
       "  </tbody>\n",
       "</table>\n",
       "</div>"
      ],
      "text/plain": [
       "                     Entities  Context  Chunks  Roots  ModifiedContext  \\\n",
       "No Context Needed         213      165     213    189              213   \n",
       "Some Context Needed       183      150     175    180              180   \n",
       "Context Needed             64       54      66     68               68   \n",
       "\n",
       "                     Combined  \n",
       "No Context Needed         213  \n",
       "Some Context Needed       187  \n",
       "Context Needed             71  "
      ]
     },
     "execution_count": 225,
     "metadata": {},
     "output_type": "execute_result"
    }
   ],
   "source": [
    "method_comparison = pd.concat(val_counts, axis=1)\n",
    "method_comparison.columns = methods\n",
    "method_comparison.index = [\"No Context Needed\", \"Some Context Needed\", \"Context Needed\"]\n",
    "method_comparison"
   ]
  }
 ],
 "metadata": {
  "kernelspec": {
   "display_name": "spacey_pipeline",
   "language": "python",
   "name": "spacey_pipeline"
  },
  "language_info": {
   "codemirror_mode": {
    "name": "ipython",
    "version": 3
   },
   "file_extension": ".py",
   "mimetype": "text/x-python",
   "name": "python",
   "nbconvert_exporter": "python",
   "pygments_lexer": "ipython3",
   "version": "3.9.18"
  }
 },
 "nbformat": 4,
 "nbformat_minor": 5
}
